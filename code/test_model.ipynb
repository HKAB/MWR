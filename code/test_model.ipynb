{
 "cells": [
  {
   "cell_type": "code",
   "execution_count": 1,
   "id": "694eafb1-5e8a-4f98-aeaf-49327f49e86b",
   "metadata": {},
   "outputs": [],
   "source": [
    "from Utils import *\n",
    "import Network as models\n",
    "import os\n",
    "import pandas as pd\n",
    "import torch\n",
    "from tqdm import tqdm"
   ]
  },
  {
   "cell_type": "code",
   "execution_count": 2,
   "id": "299bc110-a1c9-4612-8e21-2cab57f33ec3",
   "metadata": {},
   "outputs": [
    {
     "name": "stdout",
     "output_type": "stream",
     "text": [
      "Get Global_Regressor\n"
     ]
    }
   ],
   "source": [
    "model = models.create_model(None, \"Global_Regressor\")"
   ]
  },
  {
   "cell_type": "code",
   "execution_count": 3,
   "id": "73dd7ca8-d11a-4691-8f5c-273cf83c9bff",
   "metadata": {},
   "outputs": [
    {
     "data": {
      "text/plain": [
       "Global_Regressor(\n",
       "  (encoder): VGG(\n",
       "    (features): Sequential(\n",
       "      (stage1): Sequential(\n",
       "        (unit1): ConvBlock(\n",
       "          (conv): Conv2d(3, 64, kernel_size=(3, 3), stride=(1, 1), padding=(1, 1), bias=False)\n",
       "          (bn): BatchNorm2d(64, eps=1e-05, momentum=0.1, affine=True, track_running_stats=True)\n",
       "          (activ): ReLU(inplace=True)\n",
       "        )\n",
       "        (unit2): ConvBlock(\n",
       "          (conv): Conv2d(64, 64, kernel_size=(3, 3), stride=(1, 1), padding=(1, 1), bias=False)\n",
       "          (bn): BatchNorm2d(64, eps=1e-05, momentum=0.1, affine=True, track_running_stats=True)\n",
       "          (activ): ReLU(inplace=True)\n",
       "        )\n",
       "        (pool1): MaxPool2d(kernel_size=2, stride=2, padding=0, dilation=1, ceil_mode=False)\n",
       "      )\n",
       "      (stage2): Sequential(\n",
       "        (unit1): ConvBlock(\n",
       "          (conv): Conv2d(64, 128, kernel_size=(3, 3), stride=(1, 1), padding=(1, 1), bias=False)\n",
       "          (bn): BatchNorm2d(128, eps=1e-05, momentum=0.1, affine=True, track_running_stats=True)\n",
       "          (activ): ReLU(inplace=True)\n",
       "        )\n",
       "        (unit2): ConvBlock(\n",
       "          (conv): Conv2d(128, 128, kernel_size=(3, 3), stride=(1, 1), padding=(1, 1), bias=False)\n",
       "          (bn): BatchNorm2d(128, eps=1e-05, momentum=0.1, affine=True, track_running_stats=True)\n",
       "          (activ): ReLU(inplace=True)\n",
       "        )\n",
       "        (pool2): MaxPool2d(kernel_size=2, stride=2, padding=0, dilation=1, ceil_mode=False)\n",
       "      )\n",
       "      (stage3): Sequential(\n",
       "        (unit1): ConvBlock(\n",
       "          (conv): Conv2d(128, 256, kernel_size=(3, 3), stride=(1, 1), padding=(1, 1), bias=False)\n",
       "          (bn): BatchNorm2d(256, eps=1e-05, momentum=0.1, affine=True, track_running_stats=True)\n",
       "          (activ): ReLU(inplace=True)\n",
       "        )\n",
       "        (unit2): ConvBlock(\n",
       "          (conv): Conv2d(256, 256, kernel_size=(3, 3), stride=(1, 1), padding=(1, 1), bias=False)\n",
       "          (bn): BatchNorm2d(256, eps=1e-05, momentum=0.1, affine=True, track_running_stats=True)\n",
       "          (activ): ReLU(inplace=True)\n",
       "        )\n",
       "        (unit3): ConvBlock(\n",
       "          (conv): Conv2d(256, 256, kernel_size=(3, 3), stride=(1, 1), padding=(1, 1), bias=False)\n",
       "          (bn): BatchNorm2d(256, eps=1e-05, momentum=0.1, affine=True, track_running_stats=True)\n",
       "          (activ): ReLU(inplace=True)\n",
       "        )\n",
       "        (pool3): MaxPool2d(kernel_size=2, stride=2, padding=0, dilation=1, ceil_mode=False)\n",
       "      )\n",
       "      (stage4): Sequential(\n",
       "        (unit1): ConvBlock(\n",
       "          (conv): Conv2d(256, 512, kernel_size=(3, 3), stride=(1, 1), padding=(1, 1), bias=False)\n",
       "          (bn): BatchNorm2d(512, eps=1e-05, momentum=0.1, affine=True, track_running_stats=True)\n",
       "          (activ): ReLU(inplace=True)\n",
       "        )\n",
       "        (unit2): ConvBlock(\n",
       "          (conv): Conv2d(512, 512, kernel_size=(3, 3), stride=(1, 1), padding=(1, 1), bias=False)\n",
       "          (bn): BatchNorm2d(512, eps=1e-05, momentum=0.1, affine=True, track_running_stats=True)\n",
       "          (activ): ReLU(inplace=True)\n",
       "        )\n",
       "        (unit3): ConvBlock(\n",
       "          (conv): Conv2d(512, 512, kernel_size=(3, 3), stride=(1, 1), padding=(1, 1), bias=False)\n",
       "          (bn): BatchNorm2d(512, eps=1e-05, momentum=0.1, affine=True, track_running_stats=True)\n",
       "          (activ): ReLU(inplace=True)\n",
       "        )\n",
       "        (pool4): MaxPool2d(kernel_size=2, stride=2, padding=0, dilation=1, ceil_mode=False)\n",
       "      )\n",
       "      (stage5): Sequential(\n",
       "        (unit1): ConvBlock(\n",
       "          (conv): Conv2d(512, 512, kernel_size=(3, 3), stride=(1, 1), padding=(1, 1), bias=False)\n",
       "          (bn): BatchNorm2d(512, eps=1e-05, momentum=0.1, affine=True, track_running_stats=True)\n",
       "          (activ): ReLU(inplace=True)\n",
       "        )\n",
       "        (unit2): ConvBlock(\n",
       "          (conv): Conv2d(512, 512, kernel_size=(3, 3), stride=(1, 1), padding=(1, 1), bias=False)\n",
       "          (bn): BatchNorm2d(512, eps=1e-05, momentum=0.1, affine=True, track_running_stats=True)\n",
       "          (activ): ReLU(inplace=True)\n",
       "        )\n",
       "        (unit3): ConvBlock(\n",
       "          (conv): Conv2d(512, 512, kernel_size=(3, 3), stride=(1, 1), padding=(1, 1), bias=False)\n",
       "          (bn): BatchNorm2d(512, eps=1e-05, momentum=0.1, affine=True, track_running_stats=True)\n",
       "          (activ): ReLU(inplace=True)\n",
       "        )\n",
       "        (pool5): MaxPool2d(kernel_size=2, stride=2, padding=0, dilation=1, ceil_mode=False)\n",
       "      )\n",
       "    )\n",
       "    (output): VGGOutputBlock(\n",
       "      (fc1): VGGDense(\n",
       "        (fc): Linear(in_features=25088, out_features=4096, bias=True)\n",
       "        (activ): ReLU(inplace=True)\n",
       "        (dropout): Dropout(p=0.5, inplace=False)\n",
       "      )\n",
       "      (fc2): VGGDense(\n",
       "        (fc): Linear(in_features=4096, out_features=4096, bias=True)\n",
       "        (activ): ReLU(inplace=True)\n",
       "        (dropout): Dropout(p=0.5, inplace=False)\n",
       "      )\n",
       "      (fc3): Linear(in_features=4096, out_features=1000, bias=True)\n",
       "    )\n",
       "  )\n",
       "  (avg_pool): AvgPool2d(kernel_size=7, stride=7, padding=0)\n",
       "  (regressor): Regressor(\n",
       "    (convA): Conv2d(1536, 512, kernel_size=(1, 1), stride=(1, 1))\n",
       "    (leakyreluA): ReLU()\n",
       "    (convB): Conv2d(512, 512, kernel_size=(1, 1), stride=(1, 1))\n",
       "    (leakyreluB): ReLU()\n",
       "    (dropout): Dropout(p=0.5, inplace=False)\n",
       "    (convC): Conv2d(512, 1, kernel_size=(1, 1), stride=(1, 1))\n",
       "    (activation): Tanh()\n",
       "  )\n",
       ")"
      ]
     },
     "execution_count": 3,
     "metadata": {},
     "output_type": "execute_result"
    }
   ],
   "source": [
    "model"
   ]
  },
  {
   "cell_type": "code",
   "execution_count": 4,
   "id": "d7fcf63b-eb04-4e28-ad43-a35baf20d14b",
   "metadata": {},
   "outputs": [],
   "source": [
    "import pandas as pd"
   ]
  },
  {
   "cell_type": "code",
   "execution_count": 47,
   "id": "02a0aa3d-6f82-474a-9a25-cae0b5b68ada",
   "metadata": {},
   "outputs": [],
   "source": [
    "train_df = pd.read_csv('../../MWR/datalist/utk/UTK_train_coral.csv')"
   ]
  },
  {
   "cell_type": "code",
   "execution_count": 48,
   "id": "fb34dd4c-621a-4d3c-ab29-4e1920e3a17c",
   "metadata": {},
   "outputs": [
    {
     "name": "stdout",
     "output_type": "stream",
     "text": [
      "<class 'pandas.core.frame.DataFrame'>\n",
      "RangeIndex: 13146 entries, 0 to 13145\n",
      "Data columns (total 4 columns):\n",
      " #   Column      Non-Null Count  Dtype \n",
      "---  ------      --------------  ----- \n",
      " 0   Unnamed: 0  13146 non-null  int64 \n",
      " 1   filename    13146 non-null  object\n",
      " 2   age         13146 non-null  int64 \n",
      " 3   database    13146 non-null  object\n",
      "dtypes: int64(2), object(2)\n",
      "memory usage: 410.9+ KB\n"
     ]
    }
   ],
   "source": [
    "train_df.info()"
   ]
  },
  {
   "cell_type": "code",
   "execution_count": 49,
   "id": "2c32ab09-949a-47da-be1c-26a2f7cceae3",
   "metadata": {},
   "outputs": [],
   "source": [
    "train_df = train_df.drop([\"Unnamed: 0\", \"database\"], axis=1)"
   ]
  },
  {
   "cell_type": "code",
   "execution_count": 50,
   "id": "c2c11f18-de55-4ce5-8022-0aa7dc99f302",
   "metadata": {},
   "outputs": [
    {
     "data": {
      "text/plain": [
       "<AxesSubplot:>"
      ]
     },
     "execution_count": 50,
     "metadata": {},
     "output_type": "execute_result"
    },
    {
     "data": {
      "image/png": "[encoded data removed]",
      "text/plain": [
       "<Figure size 432x288 with 1 Axes>"
      ]
     },
     "metadata": {
      "needs_background": "light"
     },
     "output_type": "display_data"
    }
   ],
   "source": [
    "train_df['age'].value_counts().plot(kind='bar')"
   ]
  },
  {
   "cell_type": "code",
   "execution_count": 51,
   "id": "0add3639-a83b-40f1-9a9d-2edad4b7ee6a",
   "metadata": {},
   "outputs": [
    {
     "data": {
      "text/plain": [
       "array([21, 22, 23, 24, 25, 26, 27, 28, 29, 30, 31, 32, 33, 34, 35, 36, 37,\n",
       "       38, 39, 40, 41, 42, 43, 44, 45, 46, 47, 48, 49, 50, 51, 52, 53, 54,\n",
       "       55, 56, 57, 58, 59, 60], dtype=int64)"
      ]
     },
     "execution_count": 51,
     "metadata": {},
     "output_type": "execute_result"
    }
   ],
   "source": [
    "np.array(sorted(train_df['age'].unique())) # 21 -> 60"
   ]
  },
  {
   "cell_type": "code",
   "execution_count": 151,
   "id": "e92d502d-fb90-4a91-a283-2edd3e92d2ba",
   "metadata": {},
   "outputs": [
    {
     "name": "stderr",
     "output_type": "stream",
     "text": [
      "100%|██████████████████████████████████████████████████████████████████████████████████| 40/40 [00:02<00:00, 19.04it/s]\n"
     ]
    }
   ],
   "source": [
    "tau = 6\n",
    "min_age = 21\n",
    "max_age = 60\n",
    "sample_per_age = 5\n",
    "\n",
    "for lb in tqdm(range(min_age, max_age + 1)):\n",
    "    ub = min(max_age, lb + tau)\n",
    "    \n",
    "    min_age_candidate = train_df[train_df['age'] == lb]\n",
    "    max_age_candidate = train_df[train_df['age'] == ub]\n",
    "    \n",
    "    for age in range(lb, ub + 1):\n",
    "        curr_age_candidate = train_df[train_df['age'] == age]\n",
    "        if (age == min_age):\n",
    "            lb_df = min_age_candidate.sample(n=sample_per_age*2)\n",
    "            curr_df = lb_df.iloc[:int(len(lb_df)/2), :]\n",
    "            lb_df = lb_df.iloc[int(len(lb_df)/2):, :]\n",
    "            ub_df = max_age_candidate.sample(n=sample_per_age)\n",
    "            all_df = lb_df.merge(curr_df, how='cross')\n",
    "            all_df = all_df.merge(ub_df, how='cross')\n",
    "        elif (age == max_age):\n",
    "            lb_df = min_age_candidate.sample(n=sample_per_age)\n",
    "            ub_df = max_age_candidate.sample(n=sample_per_age*2)\n",
    "            curr_df = ub_df.iloc[:int(len(ub_df)/2), :]\n",
    "            ub_df = ub_df.iloc[int(len(ub_df)/2):, :]\n",
    "\n",
    "            temp_all_df = lb_df.merge(curr_df, how='cross')\n",
    "            temp_all_df = temp_all_df.merge(ub_df, how='cross')\n",
    "\n",
    "            all_df = pd.concat([all_df, temp_all_df], ignore_index=True)\n",
    "        else:\n",
    "            lb_df = min_age_candidate.sample(n=sample_per_age)\n",
    "            curr_df = curr_age_candidate.sample(n=sample_per_age)\n",
    "            ub_df = max_age_candidate.sample(n=sample_per_age)\n",
    "\n",
    "            temp_all_df = lb_df.merge(curr_df, how='cross')\n",
    "            temp_all_df = temp_all_df.merge(ub_df, how='cross')\n",
    "\n",
    "            all_df = pd.concat([all_df, temp_all_df], ignore_index=True)"
   ]
  },
  {
   "cell_type": "code",
   "execution_count": 153,
   "id": "ff750b97-f963-4124-a07b-256379f42744",
   "metadata": {},
   "outputs": [],
   "source": [
    "all_df.columns = ['filename_lb', 'age_lb', 'filename_curr', 'age_curr', 'filename_ub', 'age_ub']"
   ]
  },
  {
   "cell_type": "code",
   "execution_count": 162,
   "id": "5830417d-2f40-4760-ae25-c920296a5ed3",
   "metadata": {},
   "outputs": [],
   "source": [
    "all_df['p_rank'] = (all_df['age_curr'] - (all_df['age_ub'] + all_df['age_lb'])/2)/((all_df['age_ub'] - all_df['age_lb'])/2)"
   ]
  },
  {
   "cell_type": "code",
   "execution_count": 9,
   "id": "ab0a3cdb-2367-4ae3-a87e-3059d4108e2f",
   "metadata": {},
   "outputs": [],
   "source": [
    "all_df['filename_lb'] = all_df['filename_lb'] + \".chip.jpg\"\n",
    "all_df['filename_curr'] = all_df['filename_curr'] + \".chip.jpg\"\n",
    "all_df['filename_ub'] = all_df['filename_ub'] + \".chip.jpg\""
   ]
  },
  {
   "cell_type": "code",
   "execution_count": null,
   "id": "10b8f351-aeae-4158-a820-f80d57fbc723",
   "metadata": {},
   "outputs": [],
   "source": [
    "all_df.to_csv('pregressor_train_data.csv', index=False)"
   ]
  },
  {
   "cell_type": "code",
   "execution_count": 5,
   "id": "fd63e8fc-d9a3-4b69-83b3-634c9b105b7c",
   "metadata": {},
   "outputs": [],
   "source": [
    "all_df = pd.read_csv('pregressor_train_data.csv')"
   ]
  },
  {
   "cell_type": "code",
   "execution_count": 6,
   "id": "ad328e08-96e0-461a-9da6-b844d471c6b5",
   "metadata": {},
   "outputs": [
    {
     "data": {
      "text/plain": [
       "<AxesSubplot:>"
      ]
     },
     "execution_count": 6,
     "metadata": {},
     "output_type": "execute_result"
    },
    {
     "data": {
      "image/png": "[encoded data removed]",
      "text/plain": [
       "<Figure size 432x288 with 1 Axes>"
      ]
     },
     "metadata": {
      "needs_background": "light"
     },
     "output_type": "display_data"
    }
   ],
   "source": [
    "all_df['p_rank'].hist(bins=15)"
   ]
  },
  {
   "cell_type": "code",
   "execution_count": 7,
   "id": "e6213661-9a5f-4bf8-9937-02fff38bb41c",
   "metadata": {},
   "outputs": [],
   "source": [
    "all_df_ = all_df.head(5)"
   ]
  },
  {
   "cell_type": "code",
   "execution_count": 8,
   "id": "f2bde6c6-a87d-46cc-8b7b-9bfd56781e6a",
   "metadata": {},
   "outputs": [],
   "source": [
    "from tqdm import tqdm\n",
    "from torch.utils.data import DataLoader\n",
    "from DataLoader import *\n",
    "import os\n",
    "import torch.nn as nn"
   ]
  },
  {
   "cell_type": "code",
   "execution_count": 9,
   "id": "f16a2296-c0bf-46b6-acfe-18599afb4df6",
   "metadata": {},
   "outputs": [],
   "source": [
    "Images_train = ImageLoaderForTrain(None, all_df_)"
   ]
  },
  {
   "cell_type": "code",
   "execution_count": 10,
   "id": "71e8872c-037e-4a51-a1cc-96f1bda419a6",
   "metadata": {},
   "outputs": [],
   "source": [
    "dataloader_Images_train = DataLoader(Images_train, batch_size=11, shuffle=False, num_workers=4)"
   ]
  },
  {
   "cell_type": "code",
   "execution_count": 11,
   "id": "cc51c8d6-cf26-4c91-8b00-3e0ab675ff42",
   "metadata": {},
   "outputs": [],
   "source": [
    "device = torch.device(\"cuda\" if torch.cuda.is_available() else \"cpu\")"
   ]
  },
  {
   "cell_type": "code",
   "execution_count": 12,
   "id": "80adbd66-5fa2-4bf8-b4c4-9e61730cfd60",
   "metadata": {},
   "outputs": [
    {
     "name": "stderr",
     "output_type": "stream",
     "text": [
      "100%|████████████████████████████████████████████████████████████████████████████████████| 1/1 [00:26<00:00, 26.99s/it]"
     ]
    },
    {
     "name": "stdout",
     "output_type": "stream",
     "text": [
      "Training loss: 1.0227367877960205\n"
     ]
    },
    {
     "name": "stderr",
     "output_type": "stream",
     "text": [
      "100%|████████████████████████████████████████████████████████████████████████████████████| 1/1 [00:28<00:00, 28.37s/it]\n"
     ]
    }
   ],
   "source": [
    "criteria = nn.MSELoss()\n",
    "optimizer = torch.optim.Adam(model.parameters(), lr=0.001)\n",
    "epochs = 1\n",
    "\n",
    "for epoch in range(epochs):\n",
    "    for i, data in enumerate(tqdm(dataloader_Images_train)):\n",
    "        X, y = data\n",
    "        \n",
    "        # convert data to float\n",
    "        # https://stackoverflow.com/questions/67456368/pytorch-getting-runtimeerror-found-dtype-double-but-expected-float\n",
    "        X = X.float().to(device)\n",
    "        y = y.float().to(device)\n",
    "        optimizer.zero_grad()\n",
    "        \n",
    "        output = torch.squeeze(model('train', x_1_1=X[:, 0, :, :, :], x_1_2=X[:, 1, :, :, :], x_2=X[:, 2, :, :, :]))\n",
    "        loss = criteria(output, y)\n",
    "        # output = output.cpu().detach().numpy()\n",
    "        \n",
    "        training_loss = loss.item()\n",
    "        \n",
    "        loss.backward()\n",
    "        optimizer.step()\n",
    "        \n",
    "        if i % 2 == 0:\n",
    "            print(f\"Training loss: {training_loss}\")\n",
    "    \n",
    "    "
   ]
  },
  {
   "cell_type": "code",
   "execution_count": 31,
   "id": "f3bf7689-8a3b-4282-9f40-bba61a7e06ca",
   "metadata": {},
   "outputs": [
    {
     "data": {
      "text/plain": [
       "tensor([-0.0899, -0.0452, -0.0217, -0.0115, -0.1346],\n",
       "       grad_fn=<SqueezeBackward0>)"
      ]
     },
     "execution_count": 31,
     "metadata": {},
     "output_type": "execute_result"
    }
   ],
   "source": [
    "output"
   ]
  },
  {
   "cell_type": "code",
   "execution_count": 32,
   "id": "26cfaeda-6721-4289-907a-c0933ad2e573",
   "metadata": {},
   "outputs": [
    {
     "data": {
      "text/plain": [
       "tensor([-1., -1., -1., -1., -1.], dtype=torch.float64)"
      ]
     },
     "execution_count": 32,
     "metadata": {},
     "output_type": "execute_result"
    }
   ],
   "source": [
    "y"
   ]
  }
 ],
 "metadata": {
  "kernelspec": {
   "display_name": "Python 3 (ipykernel)",
   "language": "python",
   "name": "python3"
  },
  "language_info": {
   "codemirror_mode": {
    "name": "ipython",
    "version": 3
   },
   "file_extension": ".py",
   "mimetype": "text/x-python",
   "name": "python",
   "nbconvert_exporter": "python",
   "pygments_lexer": "ipython3",
   "version": "3.9.12"
  }
 },
 "nbformat": 4,
 "nbformat_minor": 5
}
