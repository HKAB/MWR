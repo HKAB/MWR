{
 "cells": [
  {
   "cell_type": "code",
   "execution_count": null,
   "metadata": {
    "colab": {
     "base_uri": "https://localhost:8080/"
    },
    "id": "cy8YRk5S0yRe",
    "outputId": "97a880f7-d3c5-4608-889d-4d44361e444c"
   },
   "outputs": [
    {
     "name": "stdout",
     "output_type": "stream",
     "text": [
      "Sun Sep 25 03:38:24 2022       \n",
      "+-----------------------------------------------------------------------------+\n",
      "| NVIDIA-SMI 460.32.03    Driver Version: 460.32.03    CUDA Version: 11.2     |\n",
      "|-------------------------------+----------------------+----------------------+\n",
      "| GPU  Name        Persistence-M| Bus-Id        Disp.A | Volatile Uncorr. ECC |\n",
      "| Fan  Temp  Perf  Pwr:Usage/Cap|         Memory-Usage | GPU-Util  Compute M. |\n",
      "|                               |                      |               MIG M. |\n",
      "|===============================+======================+======================|\n",
      "|   0  Tesla T4            Off  | 00000000:00:04.0 Off |                    0 |\n",
      "| N/A   46C    P8    10W /  70W |      0MiB / 15109MiB |      0%      Default |\n",
      "|                               |                      |                  N/A |\n",
      "+-------------------------------+----------------------+----------------------+\n",
      "                                                                               \n",
      "+-----------------------------------------------------------------------------+\n",
      "| Processes:                                                                  |\n",
      "|  GPU   GI   CI        PID   Type   Process name                  GPU Memory |\n",
      "|        ID   ID                                                   Usage      |\n",
      "|=============================================================================|\n",
      "|  No running processes found                                                 |\n",
      "+-----------------------------------------------------------------------------+\n"
     ]
    }
   ],
   "source": [
    "!nvidia-smi"
   ]
  },
  {
   "cell_type": "code",
   "execution_count": null,
   "metadata": {
    "id": "ij2YVmZRqscG"
   },
   "outputs": [],
   "source": [
    "!gdown 1gaSF1TqagumNbhWamv2W2Flf8DWaZzLA\n",
    "!unzip 'MWR.zip'"
   ]
  },
  {
   "cell_type": "code",
   "execution_count": null,
   "metadata": {
    "colab": {
     "base_uri": "https://localhost:8080/"
    },
    "id": "7yyM7IIsfMc7",
    "outputId": "a7880cf6-ad35-437b-b04c-25a1c17db27a"
   },
   "outputs": [
    {
     "name": "stdout",
     "output_type": "stream",
     "text": [
      "/content/MWR/code\n"
     ]
    }
   ],
   "source": [
    "%cd MWR/code"
   ]
  },
  {
   "cell_type": "code",
   "execution_count": null,
   "metadata": {
    "colab": {
     "base_uri": "https://localhost:8080/"
    },
    "id": "cFcRpbh7gusu",
    "outputId": "5c615cca-24ea-49a5-ab43-4f8ad4972c30"
   },
   "outputs": [
    {
     "name": "stdout",
     "output_type": "stream",
     "text": [
      "Downloading...\n",
      "From: https://drive.google.com/uc?id=1biQcAxaeLJuSu77p-ZOgR8LCctsVn9K9\n",
      "To: /content/MWR/code/utk_coral.pth\n",
      "100% 684M/684M [00:02<00:00, 262MB/s]\n"
     ]
    }
   ],
   "source": [
    "!gdown 1biQcAxaeLJuSu77p-ZOgR8LCctsVn9K9"
   ]
  },
  {
   "cell_type": "code",
   "execution_count": null,
   "metadata": {
    "id": "AL6jk_FGqyvE"
   },
   "outputs": [],
   "source": [
    "!gdown 141LMtZZNb10Fi2-R3H9QD7Rcn09nl0am\n",
    "!unzip 'UTK_mtcnn.zip'"
   ]
  },
  {
   "cell_type": "code",
   "execution_count": null,
   "metadata": {
    "colab": {
     "base_uri": "https://localhost:8080/"
    },
    "id": "bMwtgoRNgFiJ",
    "outputId": "f8577aa9-e430-4a18-b986-f03bbe362d37"
   },
   "outputs": [
    {
     "name": "stdout",
     "output_type": "stream",
     "text": [
      "Looking in indexes: https://pypi.org/simple, https://us-python.pkg.dev/colab-wheels/public/simple/\n",
      "Collecting pytorchcv\n",
      "  Downloading pytorchcv-0.0.67-py2.py3-none-any.whl (532 kB)\n",
      "\u001b[K     |████████████████████████████████| 532 kB 8.0 MB/s \n",
      "\u001b[?25hRequirement already satisfied: requests in /usr/local/lib/python3.7/dist-packages (from pytorchcv) (2.23.0)\n",
      "Requirement already satisfied: numpy in /usr/local/lib/python3.7/dist-packages (from pytorchcv) (1.21.6)\n",
      "Requirement already satisfied: certifi>=2017.4.17 in /usr/local/lib/python3.7/dist-packages (from requests->pytorchcv) (2022.6.15)\n",
      "Requirement already satisfied: urllib3!=1.25.0,!=1.25.1,<1.26,>=1.21.1 in /usr/local/lib/python3.7/dist-packages (from requests->pytorchcv) (1.24.3)\n",
      "Requirement already satisfied: chardet<4,>=3.0.2 in /usr/local/lib/python3.7/dist-packages (from requests->pytorchcv) (3.0.4)\n",
      "Requirement already satisfied: idna<3,>=2.5 in /usr/local/lib/python3.7/dist-packages (from requests->pytorchcv) (2.10)\n",
      "Installing collected packages: pytorchcv\n",
      "Successfully installed pytorchcv-0.0.67\n"
     ]
    }
   ],
   "source": [
    "!pip install pytorchcv"
   ]
  },
  {
   "cell_type": "code",
   "execution_count": null,
   "metadata": {
    "colab": {
     "base_uri": "https://localhost:8080/"
    },
    "id": "JBaJo-Ogqyxu",
    "outputId": "cc9845d3-b19d-4d3c-86d1-d4c143988eb6"
   },
   "outputs": [
    {
     "name": "stdout",
     "output_type": "stream",
     "text": [
      "Get Global_Regressor\n",
      "=> loaded checkpoint 'utk_coral.pth'\n",
      "/usr/local/lib/python3.7/dist-packages/torch/utils/data/dataloader.py:566: UserWarning: This DataLoader will create 4 worker processes in total. Our suggested max number of worker in current system is 2, which is smaller than what this DataLoader is going to create. Please be aware that excessive worker creation might get DataLoader running slow or even freeze, lower the worker number to avoid potential slowness/freeze if necessary.\n",
      "  cpuset_checked))\n",
      "[1,   500] train cls loss: 3.259\n",
      "[1,   500] train mae loss: 7.032\n",
      "test cls loss: 3.106\n",
      "test mae loss: 5.752\n",
      "[2,   500] train cls loss: 3.076\n",
      "[2,   500] train mae loss: 5.642\n",
      "test cls loss: 3.248\n",
      "test mae loss: 5.998\n",
      "[3,   500] train cls loss: 3.020\n",
      "[3,   500] train mae loss: 5.298\n",
      "test cls loss: 2.991\n",
      "test mae loss: 5.129\n",
      "[4,   500] train cls loss: 2.966\n",
      "[4,   500] train mae loss: 5.008\n",
      "test cls loss: 2.963\n",
      "test mae loss: 4.972\n",
      "[5,   500] train cls loss: 2.926\n",
      "[5,   500] train mae loss: 4.837\n",
      "test cls loss: 3.045\n",
      "test mae loss: 5.383\n",
      "[6,   500] train cls loss: 2.885\n",
      "[6,   500] train mae loss: 4.532\n",
      "test cls loss: 2.966\n",
      "test mae loss: 4.836\n",
      "[7,   500] train cls loss: 2.848\n",
      "[7,   500] train mae loss: 4.394\n",
      "test cls loss: 3.037\n",
      "test mae loss: 5.107\n",
      "[8,   500] train cls loss: 2.794\n",
      "[8,   500] train mae loss: 4.157\n",
      "test cls loss: 2.984\n",
      "test mae loss: 4.980\n",
      "[9,   500] train cls loss: 2.744\n",
      "[9,   500] train mae loss: 3.979\n",
      "test cls loss: 3.018\n",
      "test mae loss: 4.832\n",
      "[10,   500] train cls loss: 2.689\n",
      "[10,   500] train mae loss: 3.726\n",
      "test cls loss: 2.999\n",
      "test mae loss: 4.717\n",
      "[11,   500] train cls loss: 2.629\n",
      "[11,   500] train mae loss: 3.532\n",
      "test cls loss: 3.065\n",
      "test mae loss: 4.750\n",
      "[12,   500] train cls loss: 2.563\n",
      "[12,   500] train mae loss: 3.295\n",
      "test cls loss: 3.119\n",
      "test mae loss: 4.802\n",
      "[13,   500] train cls loss: 2.480\n",
      "[13,   500] train mae loss: 3.037\n",
      "test cls loss: 3.113\n",
      "test mae loss: 4.777\n",
      "[14,   500] train cls loss: 2.396\n",
      "[14,   500] train mae loss: 2.838\n",
      "test cls loss: 3.317\n",
      "test mae loss: 4.849\n",
      "[15,   500] train cls loss: 2.293\n",
      "[15,   500] train mae loss: 2.613\n",
      "test cls loss: 3.420\n",
      "test mae loss: 4.905\n",
      "[16,   500] train cls loss: 2.223\n",
      "[16,   500] train mae loss: 2.504\n",
      "test cls loss: 3.500\n",
      "test mae loss: 4.757\n",
      "[17,   500] train cls loss: 2.122\n",
      "[17,   500] train mae loss: 2.296\n",
      "test cls loss: 3.668\n",
      "test mae loss: 4.836\n",
      "[18,   500] train cls loss: 2.038\n",
      "[18,   500] train mae loss: 2.210\n",
      "test cls loss: 3.746\n",
      "test mae loss: 4.816\n",
      "[19,   500] train cls loss: 1.931\n",
      "[19,   500] train mae loss: 2.059\n",
      "test cls loss: 3.822\n",
      "test mae loss: 4.797\n",
      "[20,   500] train cls loss: 1.851\n",
      "[20,   500] train mae loss: 1.927\n",
      "test cls loss: 4.154\n",
      "test mae loss: 4.734\n",
      "[21,   500] train cls loss: 1.738\n",
      "[21,   500] train mae loss: 1.801\n",
      "test cls loss: 4.186\n",
      "test mae loss: 4.656\n",
      "[22,   500] train cls loss: 1.653\n",
      "[22,   500] train mae loss: 1.740\n",
      "test cls loss: 4.345\n",
      "test mae loss: 4.770\n",
      "[23,   500] train cls loss: 1.577\n",
      "[23,   500] train mae loss: 1.674\n",
      "test cls loss: 4.611\n",
      "test mae loss: 4.857\n",
      "[24,   500] train cls loss: 1.471\n",
      "[24,   500] train mae loss: 1.553\n",
      "test cls loss: 4.837\n",
      "test mae loss: 4.766\n",
      "[25,   500] train cls loss: 1.379\n",
      "[25,   500] train mae loss: 1.493\n",
      "test cls loss: 4.823\n",
      "test mae loss: 4.735\n",
      "[26,   500] train cls loss: 1.276\n",
      "[26,   500] train mae loss: 1.421\n",
      "test cls loss: 5.446\n",
      "test mae loss: 4.932\n",
      "[27,   500] train cls loss: 1.201\n",
      "[27,   500] train mae loss: 1.337\n",
      "test cls loss: 5.038\n",
      "test mae loss: 4.849\n",
      "[28,   500] train cls loss: 1.106\n",
      "[28,   500] train mae loss: 1.275\n",
      "test cls loss: 5.688\n",
      "test mae loss: 4.796\n",
      "[29,   500] train cls loss: 1.033\n",
      "[29,   500] train mae loss: 1.213\n",
      "test cls loss: 5.290\n",
      "test mae loss: 4.813\n",
      "Traceback (most recent call last):\n",
      "  File \"train.py\", line 89, in <module>\n",
      "    train(model, criterion, optimizer, train_loader, test_loader, num_epochs=50)\n",
      "  File \"train.py\", line 29, in train\n",
      "    inputs = inputs.to(device)\n",
      "KeyboardInterrupt\n"
     ]
    }
   ],
   "source": [
    "!python train.py"
   ]
  },
  {
   "cell_type": "code",
   "execution_count": null,
   "metadata": {
    "id": "p891cz8DqzCN"
   },
   "outputs": [],
   "source": []
  },
  {
   "cell_type": "code",
   "execution_count": null,
   "metadata": {
    "id": "OGbRjBboqzE3"
   },
   "outputs": [],
   "source": []
  },
  {
   "cell_type": "code",
   "execution_count": null,
   "metadata": {
    "id": "ggWBfSfgqzHv"
   },
   "outputs": [],
   "source": []
  }
 ],
 "metadata": {
  "accelerator": "GPU",
  "colab": {
   "collapsed_sections": [],
   "provenance": []
  },
  "kernelspec": {
   "display_name": "Python 3 (ipykernel)",
   "language": "python",
   "name": "python3"
  },
  "language_info": {
   "codemirror_mode": {
    "name": "ipython",
    "version": 3
   },
   "file_extension": ".py",
   "mimetype": "text/x-python",
   "name": "python",
   "nbconvert_exporter": "python",
   "pygments_lexer": "ipython3",
   "version": "3.9.12"
  }
 },
 "nbformat": 4,
 "nbformat_minor": 4
}
